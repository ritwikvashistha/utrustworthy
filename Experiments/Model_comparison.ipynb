{
  "cells": [
    {
      "cell_type": "code",
      "execution_count": null,
      "metadata": {
        "id": "W5VtMIqmjmh5"
      },
      "outputs": [],
      "source": [
        "import jax\n",
        "import jax.numpy as jnp\n",
        "from jax import random\n",
        "from jax import jit, vmap, grad"
      ]
    },
    {
      "cell_type": "code",
      "source": [
        "import pandas as pd\n",
        "import numpy as np\n",
        "from sklearn.metrics import roc_auc_score\n",
        "from google.colab import files"
      ],
      "metadata": {
        "id": "bqW22dH1sLai"
      },
      "execution_count": null,
      "outputs": []
    },
    {
      "cell_type": "code",
      "source": [
        "import warnings\n",
        "warnings.filterwarnings(\"ignore\")"
      ],
      "metadata": {
        "id": "Nefy0ZJZq-bq"
      },
      "execution_count": null,
      "outputs": []
    },
    {
      "cell_type": "markdown",
      "metadata": {
        "id": "Fy9bVLu8mF6n"
      },
      "source": [
        "# Data Reading and Cleaning"
      ]
    },
    {
      "cell_type": "code",
      "execution_count": null,
      "metadata": {
        "colab": {
          "base_uri": "https://localhost:8080/",
          "height": 206
        },
        "id": "kUHKUOqCmHpM",
        "outputId": "04fc5009-e565-4382-9a79-f0086b5d9e4f"
      },
      "outputs": [
        {
          "output_type": "execute_result",
          "data": {
            "text/plain": [
              "   BLACK  HHSEX  METRO  HHGRAD  HHMAR  HHCITSHP  HHAGE  NUMPEOPLE     HINCP  \\\n",
              "0    0.0      1    1.0      44      1         1     52          3  5.409933   \n",
              "1    0.0      2    1.0      44      4         1     80          2  5.303196   \n",
              "2    0.0      1    1.0      47      1         1     72          2  4.825426   \n",
              "3    1.0      2    1.0      40      6         1     60          1  4.544068   \n",
              "4    0.0      2    1.0      39      3         1     80          2  4.309630   \n",
              "\n",
              "   DIVISION  OWNER  \n",
              "0         5    1.0  \n",
              "1         1    1.0  \n",
              "2         7    1.0  \n",
              "3         4    0.0  \n",
              "4         4    0.0  "
            ],
            "text/html": [
              "\n",
              "\n",
              "  <div id=\"df-34f30845-b007-4dea-89ea-7a8d79a5cb77\">\n",
              "    <div class=\"colab-df-container\">\n",
              "      <div>\n",
              "<style scoped>\n",
              "    .dataframe tbody tr th:only-of-type {\n",
              "        vertical-align: middle;\n",
              "    }\n",
              "\n",
              "    .dataframe tbody tr th {\n",
              "        vertical-align: top;\n",
              "    }\n",
              "\n",
              "    .dataframe thead th {\n",
              "        text-align: right;\n",
              "    }\n",
              "</style>\n",
              "<table border=\"1\" class=\"dataframe\">\n",
              "  <thead>\n",
              "    <tr style=\"text-align: right;\">\n",
              "      <th></th>\n",
              "      <th>BLACK</th>\n",
              "      <th>HHSEX</th>\n",
              "      <th>METRO</th>\n",
              "      <th>HHGRAD</th>\n",
              "      <th>HHMAR</th>\n",
              "      <th>HHCITSHP</th>\n",
              "      <th>HHAGE</th>\n",
              "      <th>NUMPEOPLE</th>\n",
              "      <th>HINCP</th>\n",
              "      <th>DIVISION</th>\n",
              "      <th>OWNER</th>\n",
              "    </tr>\n",
              "  </thead>\n",
              "  <tbody>\n",
              "    <tr>\n",
              "      <th>0</th>\n",
              "      <td>0.0</td>\n",
              "      <td>1</td>\n",
              "      <td>1.0</td>\n",
              "      <td>44</td>\n",
              "      <td>1</td>\n",
              "      <td>1</td>\n",
              "      <td>52</td>\n",
              "      <td>3</td>\n",
              "      <td>5.409933</td>\n",
              "      <td>5</td>\n",
              "      <td>1.0</td>\n",
              "    </tr>\n",
              "    <tr>\n",
              "      <th>1</th>\n",
              "      <td>0.0</td>\n",
              "      <td>2</td>\n",
              "      <td>1.0</td>\n",
              "      <td>44</td>\n",
              "      <td>4</td>\n",
              "      <td>1</td>\n",
              "      <td>80</td>\n",
              "      <td>2</td>\n",
              "      <td>5.303196</td>\n",
              "      <td>1</td>\n",
              "      <td>1.0</td>\n",
              "    </tr>\n",
              "    <tr>\n",
              "      <th>2</th>\n",
              "      <td>0.0</td>\n",
              "      <td>1</td>\n",
              "      <td>1.0</td>\n",
              "      <td>47</td>\n",
              "      <td>1</td>\n",
              "      <td>1</td>\n",
              "      <td>72</td>\n",
              "      <td>2</td>\n",
              "      <td>4.825426</td>\n",
              "      <td>7</td>\n",
              "      <td>1.0</td>\n",
              "    </tr>\n",
              "    <tr>\n",
              "      <th>3</th>\n",
              "      <td>1.0</td>\n",
              "      <td>2</td>\n",
              "      <td>1.0</td>\n",
              "      <td>40</td>\n",
              "      <td>6</td>\n",
              "      <td>1</td>\n",
              "      <td>60</td>\n",
              "      <td>1</td>\n",
              "      <td>4.544068</td>\n",
              "      <td>4</td>\n",
              "      <td>0.0</td>\n",
              "    </tr>\n",
              "    <tr>\n",
              "      <th>4</th>\n",
              "      <td>0.0</td>\n",
              "      <td>2</td>\n",
              "      <td>1.0</td>\n",
              "      <td>39</td>\n",
              "      <td>3</td>\n",
              "      <td>1</td>\n",
              "      <td>80</td>\n",
              "      <td>2</td>\n",
              "      <td>4.309630</td>\n",
              "      <td>4</td>\n",
              "      <td>0.0</td>\n",
              "    </tr>\n",
              "  </tbody>\n",
              "</table>\n",
              "</div>\n",
              "      <button class=\"colab-df-convert\" onclick=\"convertToInteractive('df-34f30845-b007-4dea-89ea-7a8d79a5cb77')\"\n",
              "              title=\"Convert this dataframe to an interactive table.\"\n",
              "              style=\"display:none;\">\n",
              "\n",
              "  <svg xmlns=\"http://www.w3.org/2000/svg\" height=\"24px\"viewBox=\"0 0 24 24\"\n",
              "       width=\"24px\">\n",
              "    <path d=\"M0 0h24v24H0V0z\" fill=\"none\"/>\n",
              "    <path d=\"M18.56 5.44l.94 2.06.94-2.06 2.06-.94-2.06-.94-.94-2.06-.94 2.06-2.06.94zm-11 1L8.5 8.5l.94-2.06 2.06-.94-2.06-.94L8.5 2.5l-.94 2.06-2.06.94zm10 10l.94 2.06.94-2.06 2.06-.94-2.06-.94-.94-2.06-.94 2.06-2.06.94z\"/><path d=\"M17.41 7.96l-1.37-1.37c-.4-.4-.92-.59-1.43-.59-.52 0-1.04.2-1.43.59L10.3 9.45l-7.72 7.72c-.78.78-.78 2.05 0 2.83L4 21.41c.39.39.9.59 1.41.59.51 0 1.02-.2 1.41-.59l7.78-7.78 2.81-2.81c.8-.78.8-2.07 0-2.86zM5.41 20L4 18.59l7.72-7.72 1.47 1.35L5.41 20z\"/>\n",
              "  </svg>\n",
              "      </button>\n",
              "\n",
              "\n",
              "\n",
              "    <div id=\"df-ac3b5ca9-6af8-4df7-a5c3-8e3581511d4c\">\n",
              "      <button class=\"colab-df-quickchart\" onclick=\"quickchart('df-ac3b5ca9-6af8-4df7-a5c3-8e3581511d4c')\"\n",
              "              title=\"Suggest charts.\"\n",
              "              style=\"display:none;\">\n",
              "\n",
              "<svg xmlns=\"http://www.w3.org/2000/svg\" height=\"24px\"viewBox=\"0 0 24 24\"\n",
              "     width=\"24px\">\n",
              "    <g>\n",
              "        <path d=\"M19 3H5c-1.1 0-2 .9-2 2v14c0 1.1.9 2 2 2h14c1.1 0 2-.9 2-2V5c0-1.1-.9-2-2-2zM9 17H7v-7h2v7zm4 0h-2V7h2v10zm4 0h-2v-4h2v4z\"/>\n",
              "    </g>\n",
              "</svg>\n",
              "      </button>\n",
              "    </div>\n",
              "\n",
              "<style>\n",
              "  .colab-df-quickchart {\n",
              "    background-color: #E8F0FE;\n",
              "    border: none;\n",
              "    border-radius: 50%;\n",
              "    cursor: pointer;\n",
              "    display: none;\n",
              "    fill: #1967D2;\n",
              "    height: 32px;\n",
              "    padding: 0 0 0 0;\n",
              "    width: 32px;\n",
              "  }\n",
              "\n",
              "  .colab-df-quickchart:hover {\n",
              "    background-color: #E2EBFA;\n",
              "    box-shadow: 0px 1px 2px rgba(60, 64, 67, 0.3), 0px 1px 3px 1px rgba(60, 64, 67, 0.15);\n",
              "    fill: #174EA6;\n",
              "  }\n",
              "\n",
              "  [theme=dark] .colab-df-quickchart {\n",
              "    background-color: #3B4455;\n",
              "    fill: #D2E3FC;\n",
              "  }\n",
              "\n",
              "  [theme=dark] .colab-df-quickchart:hover {\n",
              "    background-color: #434B5C;\n",
              "    box-shadow: 0px 1px 3px 1px rgba(0, 0, 0, 0.15);\n",
              "    filter: drop-shadow(0px 1px 2px rgba(0, 0, 0, 0.3));\n",
              "    fill: #FFFFFF;\n",
              "  }\n",
              "</style>\n",
              "\n",
              "    <script>\n",
              "      async function quickchart(key) {\n",
              "        const containerElement = document.querySelector('#' + key);\n",
              "        const charts = await google.colab.kernel.invokeFunction(\n",
              "            'suggestCharts', [key], {});\n",
              "      }\n",
              "    </script>\n",
              "\n",
              "      <script>\n",
              "\n",
              "function displayQuickchartButton(domScope) {\n",
              "  let quickchartButtonEl =\n",
              "    domScope.querySelector('#df-ac3b5ca9-6af8-4df7-a5c3-8e3581511d4c button.colab-df-quickchart');\n",
              "  quickchartButtonEl.style.display =\n",
              "    google.colab.kernel.accessAllowed ? 'block' : 'none';\n",
              "}\n",
              "\n",
              "        displayQuickchartButton(document);\n",
              "      </script>\n",
              "      <style>\n",
              "    .colab-df-container {\n",
              "      display:flex;\n",
              "      flex-wrap:wrap;\n",
              "      gap: 12px;\n",
              "    }\n",
              "\n",
              "    .colab-df-convert {\n",
              "      background-color: #E8F0FE;\n",
              "      border: none;\n",
              "      border-radius: 50%;\n",
              "      cursor: pointer;\n",
              "      display: none;\n",
              "      fill: #1967D2;\n",
              "      height: 32px;\n",
              "      padding: 0 0 0 0;\n",
              "      width: 32px;\n",
              "    }\n",
              "\n",
              "    .colab-df-convert:hover {\n",
              "      background-color: #E2EBFA;\n",
              "      box-shadow: 0px 1px 2px rgba(60, 64, 67, 0.3), 0px 1px 3px 1px rgba(60, 64, 67, 0.15);\n",
              "      fill: #174EA6;\n",
              "    }\n",
              "\n",
              "    [theme=dark] .colab-df-convert {\n",
              "      background-color: #3B4455;\n",
              "      fill: #D2E3FC;\n",
              "    }\n",
              "\n",
              "    [theme=dark] .colab-df-convert:hover {\n",
              "      background-color: #434B5C;\n",
              "      box-shadow: 0px 1px 3px 1px rgba(0, 0, 0, 0.15);\n",
              "      filter: drop-shadow(0px 1px 2px rgba(0, 0, 0, 0.3));\n",
              "      fill: #FFFFFF;\n",
              "    }\n",
              "  </style>\n",
              "\n",
              "      <script>\n",
              "        const buttonEl =\n",
              "          document.querySelector('#df-34f30845-b007-4dea-89ea-7a8d79a5cb77 button.colab-df-convert');\n",
              "        buttonEl.style.display =\n",
              "          google.colab.kernel.accessAllowed ? 'block' : 'none';\n",
              "\n",
              "        async function convertToInteractive(key) {\n",
              "          const element = document.querySelector('#df-34f30845-b007-4dea-89ea-7a8d79a5cb77');\n",
              "          const dataTable =\n",
              "            await google.colab.kernel.invokeFunction('convertToInteractive',\n",
              "                                                     [key], {});\n",
              "          if (!dataTable) return;\n",
              "\n",
              "          const docLinkHtml = 'Like what you see? Visit the ' +\n",
              "            '<a target=\"_blank\" href=https://colab.research.google.com/notebooks/data_table.ipynb>data table notebook</a>'\n",
              "            + ' to learn more about interactive tables.';\n",
              "          element.innerHTML = '';\n",
              "          dataTable['output_type'] = 'display_data';\n",
              "          await google.colab.output.renderOutput(dataTable, element);\n",
              "          const docLink = document.createElement('div');\n",
              "          docLink.innerHTML = docLinkHtml;\n",
              "          element.appendChild(docLink);\n",
              "        }\n",
              "      </script>\n",
              "    </div>\n",
              "  </div>\n"
            ]
          },
          "metadata": {},
          "execution_count": 4
        }
      ],
      "source": [
        "df = pd.read_csv('https://raw.githubusercontent.com/afarahi/Scientific-Machine-Learning/main/AHS_2019_Cleaned.CSV').drop('Unnamed: 0', axis=1)\n",
        "df.head()"
      ]
    },
    {
      "cell_type": "markdown",
      "metadata": {
        "id": "1soqUvyymXi1"
      },
      "source": [
        "# ML modeling"
      ]
    },
    {
      "cell_type": "code",
      "execution_count": null,
      "metadata": {
        "id": "qFGDkzQloSTX"
      },
      "outputs": [],
      "source": [
        "import matplotlib.pyplot as plt\n",
        "from sklearn.model_selection import train_test_split, GridSearchCV, RandomizedSearchCV"
      ]
    },
    {
      "cell_type": "code",
      "execution_count": null,
      "metadata": {
        "id": "PrueQi_9mZuc"
      },
      "outputs": [],
      "source": [
        "from sklearn.calibration import CalibratedClassifierCV\n",
        "from sklearn.ensemble import RandomForestRegressor\n",
        "from sklearn.ensemble import RandomForestClassifier\n",
        "from sklearn.preprocessing import OneHotEncoder\n",
        "from sklearn.linear_model import LogisticRegression\n",
        "from sklearn.calibration import calibration_curve\n",
        "from sklearn.metrics import accuracy_score\n",
        "from sklearn.neighbors import KNeighborsClassifier\n",
        "\n",
        "from sklearn.metrics import roc_auc_score, accuracy_score, brier_score_loss\n",
        "from sklearn.ensemble import RandomForestClassifier\n",
        "from sklearn.linear_model import LogisticRegression\n",
        "from sklearn.neighbors import KNeighborsClassifier\n",
        "from sklearn.naive_bayes import GaussianNB\n"
      ]
    },
    {
      "cell_type": "code",
      "source": [
        "def utility(p, y_true, th, a11, a12, a21):\n",
        "\n",
        "    Ypred = 0.0 * y_true\n",
        "    Ypred[p > th] = 1.0\n",
        "\n",
        "    # TP and TN contribution to the utility function\n",
        "    Tmask = Ypred == y_true\n",
        "    U_T = np.sum(Tmask)\n",
        "\n",
        "    # FP contribution to the utility function\n",
        "    Fmask = ~Tmask\n",
        "    Pmask = Ypred == 1.0\n",
        "    U_FP = np.sum(Fmask * Pmask)\n",
        "\n",
        "    # FN contribution to the utility function\n",
        "    Nmask = ~Pmask\n",
        "    U_FN = np.sum(Fmask * Nmask)\n",
        "\n",
        "    U = (a11 * U_T - a12 * U_FP - a21 * U_FN) / len(p)\n",
        "\n",
        "    return U\n",
        "\n",
        "def max_utility(y_true, y_pred):\n",
        "\n",
        "    threshold_vec = np.linspace(0.0, 1.0, 1001)\n",
        "\n",
        "    # make utility curve\n",
        "    u = [utility(y_pred, y_true, th, 1, 0, 0) for th in threshold_vec]\n",
        "\n",
        "    return np.max(u)"
      ],
      "metadata": {
        "id": "bOEd6UKrHeIP"
      },
      "execution_count": null,
      "outputs": []
    },
    {
      "cell_type": "code",
      "source": [
        "def NetTrustScore(y_true, p):\n",
        "    alpha = 1.0\n",
        "    beta = 1.0\n",
        "\n",
        "    y_hat = np.where(p >= 0.5, 1, 0)\n",
        "    A = np.sum(np.power(np.where(y_hat == y_true, p, 0), alpha))\n",
        "    B = np.sum(np.power(np.where(y_hat != y_true, 1.0 - p, 0), beta))\n",
        "\n",
        "    return ( A + B ) / y_true.shape[0]"
      ],
      "metadata": {
        "id": "IipG3cVmenDS"
      },
      "execution_count": null,
      "outputs": []
    },
    {
      "cell_type": "code",
      "execution_count": null,
      "metadata": {
        "id": "o7FNLl6SnB3I"
      },
      "outputs": [],
      "source": [
        "features = ['BLACK', 'HHSEX', 'METRO', 'HHGRAD', 'HHMAR', 'HHCITSHP', 'HHAGE', 'NUMPEOPLE', 'HINCP', 'DIVISION']\n",
        "dependent_var = ['OWNER']\n",
        "\n",
        "X = df[features][::]\n",
        "y = df[dependent_var][::]"
      ]
    },
    {
      "cell_type": "code",
      "execution_count": null,
      "metadata": {
        "id": "C0knLD5mnIJu"
      },
      "outputs": [],
      "source": [
        "X_train, X_test, y_train, y_test = train_test_split(X, y, test_size=0.10, random_state=453)"
      ]
    },
    {
      "cell_type": "code",
      "source": [
        "# Initialize lists to store test statistics for each split\n",
        "auc_scores = []\n",
        "accuracy_scores = []\n",
        "brier_scores = []\n",
        "NetTrust_score = []\n",
        "max_utility_scores = []\n",
        "\n",
        "# Set the number of sims\n",
        "num_sims = 50\n",
        "\n",
        "# Initialize classifiers\n",
        "rf_classifier = RandomForestClassifier(max_depth=3, n_estimators=200)\n",
        "logreg_classifier = LogisticRegression()\n",
        "knn_classifier = KNeighborsClassifier(weights = 'distance', n_neighbors=250)\n",
        "nb_classifier = GaussianNB()\n",
        "\n",
        "# Perform 20 random splits and evaluate each classifier\n",
        "for i in range(num_sims):\n",
        "\n",
        "    print(\"Iteration %i\"%i)\n",
        "\n",
        "    # Randomly split the data into training and testing sets\n",
        "    X_train, X_test, y_train, y_test = train_test_split(X, y, test_size=0.2, random_state=45323+i*543)\n",
        "\n",
        "    # Train the classifiers\n",
        "    rf_classifier.fit(X_train, y_train)\n",
        "    logreg_classifier.fit(X_train, y_train)\n",
        "    knn_classifier.fit(X_train, y_train)\n",
        "    nb_classifier.fit(X_train, y_train)\n",
        "\n",
        "    # Make predictions and probability estimates\n",
        "    rf_proba = rf_classifier.predict_proba(X_test)\n",
        "    logreg_proba = logreg_classifier.predict_proba(X_test)\n",
        "    knn_predictions = knn_classifier.predict_proba(X_test)\n",
        "    nb_proba = nb_classifier.predict_proba(X_test)\n",
        "\n",
        "    # Calculate test statistics for each classifier\n",
        "    rf_auc = roc_auc_score(y_test, rf_proba[:, 1])\n",
        "    rf_accuracy = accuracy_score(y_test, rf_classifier.predict(X_test))\n",
        "    rf_brier_score = brier_score_loss(y_test, rf_proba[:, 1])\n",
        "    rf_NetTrust_score = NetTrustScore(y_test, rf_proba[:, 1][:, np.newaxis])\n",
        "    rf_max_u_score = max_utility(y_test, rf_proba[:, 1])\n",
        "\n",
        "    logreg_auc = roc_auc_score(y_test, logreg_proba[:, 1])\n",
        "    logreg_accuracy = accuracy_score(y_test, logreg_classifier.predict(X_test))\n",
        "    logreg_brier_score = brier_score_loss(y_test, logreg_proba[:, 1])\n",
        "    logreg_NetTrust_score = NetTrustScore(y_test, logreg_proba[:, 1][:, np.newaxis])\n",
        "    logreg_max_u_score = max_utility(y_test, logreg_proba[:, 1])\n",
        "\n",
        "    knn_auc = roc_auc_score(y_test, knn_predictions[:, 1])\n",
        "    knn_accuracy = accuracy_score(y_test, knn_classifier.predict(X_test))\n",
        "    knn_brier_score = brier_score_loss(y_test, knn_predictions[:, 1])\n",
        "    knn_NetTrust_score = NetTrustScore(y_test, knn_predictions[:, 1][:, np.newaxis])\n",
        "    knn_max_u_score = max_utility(y_test, knn_predictions[:, 1])\n",
        "\n",
        "    nb_auc = roc_auc_score(y_test, nb_proba[:, 1])\n",
        "    nb_accuracy = accuracy_score(y_test, nb_classifier.predict(X_test))\n",
        "    nb_brier_score = brier_score_loss(y_test, nb_proba[:, 1])\n",
        "    nb_NetTrust_score = NetTrustScore(y_test, nb_proba[:, 1][:, np.newaxis])\n",
        "    nb_max_u_score = max_utility(y_test, nb_proba[:, 1])\n",
        "\n",
        "    # Append the test statistics to the corresponding lists\n",
        "    auc_scores.append([rf_auc, logreg_auc, knn_auc, nb_auc])\n",
        "    accuracy_scores.append([rf_accuracy, logreg_accuracy, knn_accuracy, nb_accuracy])\n",
        "    brier_scores.append([rf_brier_score, logreg_brier_score, knn_brier_score, nb_brier_score])\n",
        "    NetTrust_score.append([rf_NetTrust_score, logreg_NetTrust_score, knn_NetTrust_score, nb_NetTrust_score])\n",
        "    max_utility_scores.append([rf_max_u_score, logreg_max_u_score, knn_max_u_score, nb_max_u_score])"
      ],
      "metadata": {
        "colab": {
          "base_uri": "https://localhost:8080/"
        },
        "id": "O4AZNVnYaQzX",
        "outputId": "97081334-1d3b-4169-84e2-09d8a980f039"
      },
      "execution_count": null,
      "outputs": [
        {
          "output_type": "stream",
          "name": "stdout",
          "text": [
            "Iteration 0\n",
            "Iteration 1\n",
            "Iteration 2\n",
            "Iteration 3\n",
            "Iteration 4\n",
            "Iteration 5\n",
            "Iteration 6\n",
            "Iteration 7\n",
            "Iteration 8\n",
            "Iteration 9\n",
            "Iteration 10\n",
            "Iteration 11\n",
            "Iteration 12\n",
            "Iteration 13\n",
            "Iteration 14\n",
            "Iteration 15\n",
            "Iteration 16\n",
            "Iteration 17\n",
            "Iteration 18\n",
            "Iteration 19\n",
            "Iteration 20\n",
            "Iteration 21\n",
            "Iteration 22\n",
            "Iteration 23\n",
            "Iteration 24\n",
            "Iteration 25\n",
            "Iteration 26\n",
            "Iteration 27\n",
            "Iteration 28\n",
            "Iteration 29\n",
            "Iteration 30\n",
            "Iteration 31\n",
            "Iteration 32\n",
            "Iteration 33\n",
            "Iteration 34\n",
            "Iteration 35\n",
            "Iteration 36\n",
            "Iteration 37\n",
            "Iteration 38\n",
            "Iteration 39\n",
            "Iteration 40\n",
            "Iteration 41\n",
            "Iteration 42\n",
            "Iteration 43\n",
            "Iteration 44\n",
            "Iteration 45\n",
            "Iteration 46\n",
            "Iteration 47\n",
            "Iteration 48\n",
            "Iteration 49\n"
          ]
        }
      ]
    },
    {
      "cell_type": "code",
      "source": [
        "# Calculate the average and variance for each test statistic\n",
        "auc_avg = np.mean(auc_scores, axis=0)\n",
        "auc_var = np.std(auc_scores, axis=0)\n",
        "\n",
        "accuracy_avg = np.mean(accuracy_scores, axis=0)\n",
        "accuracy_var = np.std(accuracy_scores, axis=0)\n",
        "\n",
        "brier_avg = np.mean(brier_scores, axis=0)\n",
        "brier_var = np.std(brier_scores, axis=0)\n",
        "\n",
        "NetTrust_avg = np.mean(NetTrust_score, axis=0)\n",
        "NetTrust_var = np.std(NetTrust_score, axis=0)\n",
        "\n",
        "umax_avg = np.mean(max_utility_scores, axis=0)\n",
        "umax_var = np.std(max_utility_scores, axis=0)\n",
        "\n",
        "# Print the results\n",
        "print(\" Measure, RF, LR, knn, NB\")\n",
        "print(\"AUC - ${:.3f} \\pm {:.3f}$ & ${:.3f} \\pm {:.3f}$ & ${:.3f} \\pm {:.3f}$ & ${:.3f} \\pm {:.3f}$\".format(auc_avg[0], auc_var[0], auc_avg[1], auc_var[1], auc_avg[2], auc_var[2], auc_avg[3],  auc_var[3]))\n",
        "print(\"Accuracy - ${:.3f} \\pm {:.3f}$ & ${:.3f} \\pm {:.3f}$ & ${:.3f} \\pm {:.3f}$ & ${:.3f} \\pm {:.3f}$\".format(accuracy_avg[0], accuracy_var[0], accuracy_avg[1], accuracy_var[1], accuracy_avg[2], accuracy_var[2], accuracy_avg[3],  accuracy_var[3]))\n",
        "print(\"Brier - ${:.3f} \\pm {:.3f}$ & ${:.3f} \\pm {:.3f}$ & ${:.3f} \\pm {:.3f}$ & ${:.3f} \\pm {:.3f}$\".format(brier_avg[0], brier_var[0], brier_avg[1], brier_var[1], brier_avg[2], brier_var[2], brier_avg[3],  brier_var[3]))\n",
        "print(\"NetTrust - ${:.3f} \\pm {:.3f}$ & ${:.3f} \\pm {:.3f}$ & ${:.3f} \\pm {:.3f}$ & ${:.3f} \\pm {:.3f}$\".format(NetTrust_avg[0], NetTrust_var[0], NetTrust_avg[1], NetTrust_var[1], NetTrust_avg[2], NetTrust_var[2], NetTrust_avg[3],  NetTrust_var[3]))\n",
        "print(\"Max Utility - ${:.3f} \\pm {:.3f}$ & ${:.3f} \\pm {:.3f}$ & ${:.3f} \\pm {:.3f}$ & ${:.3f} \\pm {:.3f}$\".format(umax_avg[0], umax_var[0], umax_avg[1], umax_var[1], umax_avg[2], umax_var[2], umax_avg[3],  umax_var[3]))\n",
        "\n",
        "\n",
        "\n"
      ],
      "metadata": {
        "colab": {
          "base_uri": "https://localhost:8080/"
        },
        "id": "PgEdsu-c64Cj",
        "outputId": "dcfc4269-61ee-4eb2-c41f-9567027a59e5"
      },
      "execution_count": null,
      "outputs": [
        {
          "output_type": "stream",
          "name": "stdout",
          "text": [
            " Measure, RF, LR, knn, NB\n",
            "AUC - $0.799 \\pm 0.004$ & $0.788 \\pm 0.007$ & $0.785 \\pm 0.004$ & $0.781 \\pm 0.005$\n",
            "Accuracy - $0.733 \\pm 0.004$ & $0.735 \\pm 0.007$ & $0.732 \\pm 0.004$ & $0.723 \\pm 0.004$\n",
            "Brier - $0.181 \\pm 0.001$ & $0.177 \\pm 0.003$ & $0.179 \\pm 0.002$ & $0.194 \\pm 0.003$\n",
            "NetTrust - $0.581 \\pm 0.001$ & $0.593 \\pm 0.003$ & $0.600 \\pm 0.002$ & $0.602 \\pm 0.003$\n",
            "Max Utility - $0.746 \\pm 0.005$ & $0.738 \\pm 0.006$ & $0.736 \\pm 0.004$ & $0.727 \\pm 0.004$\n"
          ]
        }
      ]
    },
    {
      "cell_type": "code",
      "source": [
        "\n",
        "# Calculate the average and variance for each test statistic\n",
        "auc_avg = np.mean(auc_scores, axis=0)\n",
        "auc_var = np.std(auc_scores, axis=0)\n",
        "\n",
        "accuracy_avg = np.mean(accuracy_scores, axis=0)\n",
        "accuracy_var = np.std(accuracy_scores, axis=0)\n",
        "\n",
        "brier_avg = np.mean(brier_scores, axis=0)\n",
        "brier_var = np.std(brier_scores, axis=0)\n",
        "\n",
        "# Print the results\n",
        "print(\"AUC - Random Forest: {:.4f}, Logistic Regression: {:.4f},  KNN: {:.4f}, Naive Bayes: {:.4f}\".format(auc_avg[0], auc_avg[1], auc_avg[2], auc_avg[3]))\n",
        "print(\"AUC Std - Random Forest: {:.4f}, Logistic Regression: {:.4f},  KNN: {:.4f}, Naive Bayes: {:.4f}\".format(auc_var[0], auc_var[1], auc_var[2], auc_var[3]))\n",
        "\n",
        "print(\"Accuracy - Random Forest: {:.4f}, Logistic Regression: {:.4f}, KNN: {:.4f}, Naive Bayes: {:.4f}\".format(accuracy_avg[0], accuracy_avg[1], accuracy_avg[2], accuracy_avg[3]))\n",
        "print(\"Accuracy Std - Random Forest: {:.4f}, Logistic Regression: {:.4f}, KNN: {:.4f}, Naive Bayes: {:.4f}\".format(accuracy_var[0], accuracy_var[1], accuracy_var[2], accuracy_var[3]))\n",
        "\n",
        "print(\"Brier Score - Random Forest: {:.4f}, Logistic Regression: {:.4f},  KNN: {:.4f}, Naive Bayes: {:.4f}\".format(brier_avg[0], brier_avg[1], brier_avg[2], brier_avg[3]))\n",
        "print(\"Brier Score Std - Random Forest: {:.4f}, Logistic Regression: {:.4f}, KNN: {:.4f}, Naive Bayes: {:.4f}\".format(brier_var[0], brier_var[1], brier_var[2], brier_var[3]))"
      ],
      "metadata": {
        "colab": {
          "base_uri": "https://localhost:8080/"
        },
        "id": "GHjVG1Rcanzs",
        "outputId": "01a797fe-9b13-4629-861c-7fa7fa37598b"
      },
      "execution_count": null,
      "outputs": [
        {
          "output_type": "stream",
          "name": "stdout",
          "text": [
            "AUC - Random Forest: 0.7972, Logistic Regression: 0.7885,  KNN: 0.7846, Naive Bayes: 0.7803\n",
            "AUC Std - Random Forest: 0.0035, Logistic Regression: 0.0040,  KNN: 0.0034, Naive Bayes: 0.0040\n",
            "Accuracy - Random Forest: 0.7317, Logistic Regression: 0.7357, KNN: 0.7313, Naive Bayes: 0.7229\n",
            "Accuracy Std - Random Forest: 0.0045, Logistic Regression: 0.0049, KNN: 0.0035, Naive Bayes: 0.0038\n",
            "Brier Score - Random Forest: 0.1819, Logistic Regression: 0.1767,  KNN: 0.1796, Naive Bayes: 0.1939\n",
            "Brier Score Std - Random Forest: 0.0012, Logistic Regression: 0.0019, KNN: 0.0016, Naive Bayes: 0.0029\n"
          ]
        }
      ]
    },
    {
      "cell_type": "markdown",
      "source": [
        "# Calibration"
      ],
      "metadata": {
        "id": "4qKTdFynGkSm"
      }
    },
    {
      "cell_type": "code",
      "source": [
        "from sklearn.calibration import calibration_curve\n",
        "\n",
        "fraction_of_positives, mean_predicted_value = calibration_curve(y_test, rf_proba[:, 1], n_bins=50)\n",
        "rf_reliability_curve = (fraction_of_positives, mean_predicted_value)\n",
        "\n",
        "fraction_of_positives, mean_predicted_value = calibration_curve(y_test, logreg_proba[:, 1], n_bins=50)\n",
        "logreg_reliability_curve = (fraction_of_positives, mean_predicted_value)\n",
        "\n",
        "fraction_of_positives, mean_predicted_value = calibration_curve(y_test, knn_predictions[:, 1], n_bins=50)\n",
        "knn_reliability_curve = (fraction_of_positives, mean_predicted_value)\n",
        "\n",
        "\n",
        "# Initialize the figure\n",
        "plt.figure(figsize=(8, 6))\n",
        "\n",
        "# Plot each reliability curve with a different color\n",
        "colors = ['steelblue', 'indianred', 'orange', 'm']\n",
        "classifiers = ['Random Forest', 'Logistic Regression', 'KNN']\n",
        "\n",
        "for i, (curve, classifier) in enumerate(zip([rf_reliability_curve, logreg_reliability_curve, knn_reliability_curve], classifiers)):\n",
        "    plt.plot(curve[1], curve[0], lw=4, marker='o', markersize=5, label=classifier, color=colors[i])\n",
        "    # plt.fill_between(curve[1], curve[0] - curve[0]*0.68, curve[0] + curve[0]*0.68, alpha=0.15, color=colors[i])\n",
        "\n",
        "# Add reference line\n",
        "plt.plot([0, 1], [0, 1], linestyle='--', color='gray', label='Perfectly calibrated')\n",
        "\n",
        "# Set axis labels and title\n",
        "plt.xlabel('Mean Predicted Probability')\n",
        "plt.ylabel('Fraction of Positives')\n",
        "plt.title('Calibration Plot')\n",
        "\n",
        "# Set axis labels and title with updated font size\n",
        "plt.xlabel('Mean Predicted Probability', fontsize=24)\n",
        "plt.ylabel('Fraction of Positives', fontsize=24)\n",
        "plt.title('Calibration Plot', fontsize=24)\n",
        "\n",
        "# Set legend with updated font size\n",
        "plt.legend(fontsize=18)\n",
        "\n",
        "# Set tick labels with updated font size\n",
        "plt.xticks(fontsize=18)\n",
        "plt.yticks(fontsize=18)\n",
        "\n",
        "plt.grid()\n",
        "plt.xlim([0, 1])\n",
        "plt.ylim([0, 1])\n",
        "\n",
        "\n",
        "plt.savefig('calibration-model_comp.pdf', bbox_inches='tight')\n",
        "files.download('calibration-model_comp.pdf')"
      ],
      "metadata": {
        "id": "Mx7mMg2hGkDe"
      },
      "execution_count": null,
      "outputs": []
    },
    {
      "cell_type": "markdown",
      "source": [
        "# Decision Making Under Non-trivial Cost Function\n",
        "\n",
        "\n",
        "Now, suppose a non-trivial cost function that changes with the age of the housholder. Let's assume that the reward of TP = TN = 1, and the costs of the FP and FN are as following:\n",
        "\n",
        "\n",
        "$$ C({\\rm FP}) = (1 - {\\rm Age} / 100) \\times 3 $$\n",
        "\n",
        "$$ C({\\rm FN}) = (1 - {\\rm Age} / 100) \\times 0.5 $$\n",
        "\n",
        "Write a function that computes the utility for a given decision threshold of ${\\rm th}$. You want to use this equation to estimate the utility function.\n",
        "\n",
        "$\\hat{U} = \\frac{1}{n_{\\rm test}}\\sum_{i=1}^{n_{\\rm test}}\\left[\\mathbb{I}(y_i - \\hat{f}_i) \\times R(x_i, y_i) - |y_i - \\hat{f}_i| \\times C(x_i, y_i) \\right]$\n",
        "\n",
        "Finally, compute and reprot the utility of the test sample assuming ${\\rm th} = 0.5$ for all three classifiers using the test sample."
      ],
      "metadata": {
        "id": "3IEfjbqiszB0"
      }
    },
    {
      "cell_type": "code",
      "source": [
        "def utility(p, y_true, th, a11, a12, a21):\n",
        "\n",
        "    Ypred = 0.0 * y_true\n",
        "    Ypred[p > th] = 1.0\n",
        "\n",
        "    # TP and TN contribution to the utility function\n",
        "    Tmask = Ypred == y_true\n",
        "    U_T = np.sum(Tmask)\n",
        "\n",
        "    # FP contribution to the utility function\n",
        "    Fmask = ~Tmask\n",
        "    Pmask = Ypred == 1.0\n",
        "    U_FP = np.sum(Fmask * Pmask)\n",
        "\n",
        "    # FN contribution to the utility function\n",
        "    Nmask = ~Pmask\n",
        "    U_FN = np.sum(Fmask * Nmask)\n",
        "\n",
        "    U = (a11 * U_T - a12 * U_FP - a21 * U_FN) / len(p)\n",
        "\n",
        "    return U"
      ],
      "metadata": {
        "id": "JUCZs2lQs1_Z"
      },
      "execution_count": null,
      "outputs": []
    },
    {
      "cell_type": "code",
      "source": [],
      "metadata": {
        "id": "BCyxYZnqlAcp"
      },
      "execution_count": null,
      "outputs": []
    },
    {
      "cell_type": "code",
      "source": [
        "threshold_vec = np.linspace(0.0, 1.0, 201)\n",
        "\n",
        "X_train, X_test, y_train, y_test = train_test_split(X, y, test_size=0.2, random_state=1345)\n",
        "\n",
        "y_true = y_test.OWNER.to_numpy()\n",
        "\n",
        "knn_model = KNeighborsClassifier(weights = 'distance', n_neighbors=250)\n",
        "knn_model.fit(X_train, y_train)\n",
        "\n",
        "rf_model = RandomForestClassifier(max_depth=3, n_estimators=200)\n",
        "rf_model.fit(X_train, y_train)\n",
        "\n",
        "lr_model = LogisticRegression()\n",
        "lr_model.fit(X_train, y_train)\n",
        "\n",
        "# Make predictions on the test sample\n",
        "y_pred_knn = knn_model.predict_proba(X_test).T[1]\n",
        "y_pred_rf = rf_model.predict_proba(X_test).T[1]\n",
        "y_pred_lr = lr_model.predict_proba(X_test).T[1]\n",
        "\n",
        "# del knn_model, rf_model, lr_model\n",
        "\n",
        "# make utility curve\n",
        "u_knn = [utility(y_pred_knn, y_true, th, 1, 0, 0) for th in threshold_vec]\n",
        "u_rf = [utility(y_pred_rf, y_true, th, 1, 0, 0) for th in threshold_vec]\n",
        "u_lr = [utility(y_pred_lr, y_true, th, 1, 0, 0) for th in threshold_vec]\n",
        "\n",
        "plt.plot(threshold_vec, u_knn, '-', color='indianred', lw=3, label='kNN')\n",
        "plt.plot(threshold_vec, u_rf, '-', color='steelblue', lw=3, label='RF')\n",
        "plt.plot(threshold_vec, u_lr, '-', color='orange', lw=3, label='LR')\n",
        "\n",
        "plt.xlabel('Decision Threshold', size=24)\n",
        "plt.ylabel('Utility', size=24)\n",
        "\n",
        "print(np.max(u_knn))\n",
        "print(np.max(u_rf))\n",
        "print(np.max(u_lr))\n",
        "\n",
        "plt.legend(loc=2, prop={'size':13})\n",
        "plt.xlim(0.50, 0.60)\n",
        "plt.ylim(0.73, 0.75)\n",
        "plt.grid()"
      ],
      "metadata": {
        "colab": {
          "base_uri": "https://localhost:8080/",
          "height": 529
        },
        "id": "Oy1Hw4AEs6as",
        "outputId": "c31db083-df18-48d4-c691-911bcef54e66"
      },
      "execution_count": null,
      "outputs": [
        {
          "output_type": "stream",
          "name": "stdout",
          "text": [
            "0.7411631730374024\n",
            "0.7443485408960131\n",
            "0.7410604192355117\n"
          ]
        },
        {
          "output_type": "display_data",
          "data": {
            "text/plain": [
              "<Figure size 640x480 with 1 Axes>"
            ],
            "image/png": "[encoded data removed]"
          },
          "metadata": {}
        }
      ]
    },
    {
      "cell_type": "code",
      "source": [
        "def max_utility(X, y, a11, a12, a21, rand_state):\n",
        "\n",
        "    threshold_vec = np.linspace(0.0, 1.0, 1001)\n",
        "\n",
        "    X_train, X_test, y_train, y_test = train_test_split(X, y, test_size=0.2, random_state=rand_state)\n",
        "    y_true = y_test.OWNER.to_numpy()\n",
        "\n",
        "    rf_model = RandomForestClassifier(max_depth=3, n_estimators=200)\n",
        "    rf_model.fit(X_train, y_train)\n",
        "\n",
        "    lr_model = LogisticRegression()\n",
        "    lr_model.fit(X_train, y_train)\n",
        "\n",
        "    # Make predictions on the test sample\n",
        "    y_pred_rf = rf_model.predict_proba(X_test).T[1]\n",
        "    y_pred_lr = lr_model.predict_proba(X_test).T[1]\n",
        "\n",
        "    del rf_model, lr_model\n",
        "\n",
        "    # make utility curve\n",
        "    u_rf = [utility(y_pred_rf, y_true, th, a11, a12, a21) for th in threshold_vec]\n",
        "    u_lr = [utility(y_pred_lr, y_true, th, a11, a12, a21) for th in threshold_vec]\n",
        "\n",
        "    return np.max(u_rf), np.max(u_lr)\n",
        "\n",
        "\n",
        "print(max_utility(X, y, 1, 0, 0, 1345))\n",
        "print(max_utility(X, y, 1, 2, 5, 1345))"
      ],
      "metadata": {
        "colab": {
          "base_uri": "https://localhost:8080/"
        },
        "id": "DLhaD-VJnozJ",
        "outputId": "cda20897-434f-44c9-9c28-33e1cd7ca5e5"
      },
      "execution_count": null,
      "outputs": [
        {
          "output_type": "stream",
          "name": "stdout",
          "text": [
            "(0.7476366625565146, 0.7411631730374024)\n",
            "(0.0690505548705302, 0.06257706535141801)\n"
          ]
        }
      ]
    },
    {
      "cell_type": "code",
      "source": [
        "F_vec = np.linspace(0.0, 0.2, 11)\n",
        "\n",
        "n_sims = 20\n",
        "utility_vec = []\n",
        "\n",
        "for i in range(n_sims):\n",
        "\n",
        "    print(\"Simulation %i\"%i)\n",
        "\n",
        "    # make utility curve\n",
        "    utility_vec += [np.array([max_utility(X, y, 1.0, F, 0.5*F, 245433 + i * 323) for F in F_vec])]\n"
      ],
      "metadata": {
        "colab": {
          "base_uri": "https://localhost:8080/"
        },
        "id": "1RXDftDNtEJG",
        "outputId": "cd59dd9e-5091-49d4-f915-454f1d50863b"
      },
      "execution_count": null,
      "outputs": [
        {
          "output_type": "stream",
          "name": "stdout",
          "text": [
            "Simulation 0\n",
            "Simulation 1\n",
            "Simulation 2\n",
            "Simulation 3\n",
            "Simulation 4\n",
            "Simulation 5\n",
            "Simulation 6\n",
            "Simulation 7\n",
            "Simulation 8\n",
            "Simulation 9\n",
            "Simulation 10\n",
            "Simulation 11\n",
            "Simulation 12\n",
            "Simulation 13\n",
            "Simulation 14\n",
            "Simulation 15\n",
            "Simulation 16\n",
            "Simulation 17\n",
            "Simulation 18\n",
            "Simulation 19\n"
          ]
        }
      ]
    },
    {
      "cell_type": "code",
      "source": [
        "err = np.std(utility_vec, axis=0).T\n",
        "\n",
        "mean_utility = np.mean(utility_vec, axis=0).T\n",
        "\n",
        "plt.plot(F_vec, mean_utility[1], '-', color='indianred', lw=3, label='Logistic Regression')\n",
        "plt.plot(F_vec, mean_utility[0], '-', color='steelblue', lw=3, label='Random Forest')\n",
        "\n",
        "#plt.fill_between(F_vec, mean_utility[1] + err[1], mean_utility[1] - err[1], color='grey', alpha=0.3)\n",
        "#plt.fill_between(F_vec, mean_utility[0] + err[0], mean_utility[0] - err[0], color='grey', alpha=0.3)\n",
        "\n",
        "plt.fill_between(F_vec, mean_utility[1] + err[1]/np.sqrt(n_sims-1)/2, mean_utility[1] - err[1]/np.sqrt(n_sims-1)/2, color='indianred', alpha=0.3)\n",
        "plt.fill_between(F_vec, mean_utility[0] + err[0]/np.sqrt(n_sims-1)/2, mean_utility[0] - err[0]/np.sqrt(n_sims-1)/2, color='steelblue', alpha=0.3)\n",
        "\n",
        "plt.xlabel('Cost Coefficient', size=24)\n",
        "plt.ylabel('Maximum Utility', size=24)\n",
        "\n",
        "plt.legend(loc=3, prop={'size': 18})\n",
        "plt.xlim(0.0, 0.10)\n",
        "plt.ylim(0.71, 0.75)\n",
        "\n",
        "# Increase tick label size\n",
        "plt.tick_params(axis='both', which='major', labelsize=15)\n",
        "\n",
        "plt.grid()\n",
        "\n",
        "plt.savefig('utility-model_comp.pdf', bbox_inches='tight')\n",
        "files.download('utility-model_comp.pdf')\n"
      ],
      "metadata": {
        "colab": {
          "base_uri": "https://localhost:8080/",
          "height": 482
        },
        "id": "V5MzedmUtLie",
        "outputId": "004a8dd1-f61a-4247-cdbc-0bc283bc5d5f"
      },
      "execution_count": null,
      "outputs": [
        {
          "output_type": "display_data",
          "data": {
            "text/plain": [
              "<IPython.core.display.Javascript object>"
            ],
            "application/javascript": [
              "\n",
              "    async function download(id, filename, size) {\n",
              "      if (!google.colab.kernel.accessAllowed) {\n",
              "        return;\n",
              "      }\n",
              "      const div = document.createElement('div');\n",
              "      const label = document.createElement('label');\n",
              "      label.textContent = `Downloading \"${filename}\": `;\n",
              "      div.appendChild(label);\n",
              "      const progress = document.createElement('progress');\n",
              "      progress.max = size;\n",
              "      div.appendChild(progress);\n",
              "      document.body.appendChild(div);\n",
              "\n",
              "      const buffers = [];\n",
              "      let downloaded = 0;\n",
              "\n",
              "      const channel = await google.colab.kernel.comms.open(id);\n",
              "      // Send a message to notify the kernel that we're ready.\n",
              "      channel.send({})\n",
              "\n",
              "      for await (const message of channel.messages) {\n",
              "        // Send a message to notify the kernel that we're ready.\n",
              "        channel.send({})\n",
              "        if (message.buffers) {\n",
              "          for (const buffer of message.buffers) {\n",
              "            buffers.push(buffer);\n",
              "            downloaded += buffer.byteLength;\n",
              "            progress.value = downloaded;\n",
              "          }\n",
              "        }\n",
              "      }\n",
              "      const blob = new Blob(buffers, {type: 'application/binary'});\n",
              "      const a = document.createElement('a');\n",
              "      a.href = window.URL.createObjectURL(blob);\n",
              "      a.download = filename;\n",
              "      div.appendChild(a);\n",
              "      a.click();\n",
              "      div.remove();\n",
              "    }\n",
              "  "
            ]
          },
          "metadata": {}
        },
        {
          "output_type": "display_data",
          "data": {
            "text/plain": [
              "<IPython.core.display.Javascript object>"
            ],
            "application/javascript": [
              "download(\"download_bdfa9db6-c80f-4f63-90e9-5e41aab34d7f\", \"utility-model_comp.pdf\", 14405)"
            ]
          },
          "metadata": {}
        },
        {
          "output_type": "display_data",
          "data": {
            "text/plain": [
              "<Figure size 640x480 with 1 Axes>"
            ],
            "image/png": "[encoded data removed]"
          },
          "metadata": {}
        }
      ]
    }
  ],
  "metadata": {
    "colab": {
      "provenance": []
    },
    "kernelspec": {
      "display_name": "Python 3",
      "name": "python3"
    },
    "language_info": {
      "name": "python"
    }
  },
  "nbformat": 4,
  "nbformat_minor": 0
}
